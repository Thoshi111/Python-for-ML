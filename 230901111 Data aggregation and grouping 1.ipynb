{
 "cells": [
  {
   "cell_type": "code",
   "execution_count": 5,
   "id": "6c4dd1cb",
   "metadata": {},
   "outputs": [
    {
     "name": "stdout",
     "output_type": "stream",
     "text": [
      "\n",
      " Original DataFrame:\n",
      "       Name Category  Value  Score\n",
      "0    Alice        A      1     94\n",
      "1      Bob        B      3     90\n",
      "2  Charlie        C      1     66\n",
      "3    Alice        A      1     81\n",
      "4      Bob        B      1     93\n",
      "5  Charlie        C      3     68\n",
      "\n",
      " Group and aggregate with one column:\n",
      "       Name  Value\n",
      "0    Alice      2\n",
      "1      Bob      4\n",
      "2  Charlie      4\n"
     ]
    }
   ],
   "source": [
    "import numpy as np\n",
    "import pandas as pd\n",
    "df=pd.DataFrame({'Name':['Alice','Bob','Charlie','Alice','Bob','Charlie'],\n",
    "                 'Category':['A','B','C','A','B','C'],\n",
    "                 'Value':np.random.randint(1,5,size=6),'Score':np.random.randint(60,100,size=6)})\n",
    "print(\"\\n Original DataFrame:\\n\",df)\n",
    "df1=df.groupby(('Name'),as_index=False)['Value'].sum()\n",
    "print(\"\\n Group and aggregate with one column:\\n\",df1)"
   ]
  },
  {
   "cell_type": "code",
   "execution_count": 13,
   "id": "17e48576",
   "metadata": {},
   "outputs": [
    {
     "name": "stdout",
     "output_type": "stream",
     "text": [
      "\n",
      " Group and aggregate with two column sum:\n",
      "       Name  Value  Score\n",
      "0    Alice      2    175\n",
      "1      Bob      4    183\n",
      "2  Charlie      4    134\n"
     ]
    }
   ],
   "source": [
    "df2=df.groupby(('Name'),as_index=False)[['Value','Score']].sum()\n",
    "print(\"\\n Group and aggregate with two column sum:\\n\",df2)"
   ]
  },
  {
   "cell_type": "code",
   "execution_count": 11,
   "id": "4552292d",
   "metadata": {},
   "outputs": [
    {
     "name": "stdout",
     "output_type": "stream",
     "text": [
      "\n",
      " Group and aggregate with one column:\n",
      "       Name  Value\n",
      "0    Alice      2\n",
      "1      Bob      4\n",
      "2  Charlie      4\n"
     ]
    }
   ],
   "source": [
    "df3=df.groupby(('Name'),as_index=False)['Value'].agg('sum')\n",
    "print(\"\\n Group and aggregate with one column:\\n\",df3)"
   ]
  },
  {
   "cell_type": "code",
   "execution_count": 12,
   "id": "4dbfb393",
   "metadata": {},
   "outputs": [
    {
     "name": "stdout",
     "output_type": "stream",
     "text": [
      "\n",
      " Group and aggregate with one column:\n",
      "       Name  Value\n",
      "0    Alice      1\n",
      "1      Bob      3\n",
      "2  Charlie      3\n"
     ]
    }
   ],
   "source": [
    "df4=df.groupby(('Name'),as_index=False)['Value'].ˀagg('max')\n",
    "print(\"\\n Group and aggregate with one column:\\n\",df4)"
   ]
  },
  {
   "cell_type": "code",
   "execution_count": 17,
   "id": "14747e08",
   "metadata": {},
   "outputs": [
    {
     "name": "stdout",
     "output_type": "stream",
     "text": [
      "\n",
      " Group by name and multiple aggregation:\n",
      "          Value              Score      \n",
      "          sum mean min max   sum  mean\n",
      "Name                                  \n",
      "Alice       2  1.0   1   1   175  87.5\n",
      "Bob         4  2.0   1   3   183  91.5\n",
      "Charlie     4  2.0   1   3   134  67.0\n"
     ]
    }
   ],
   "source": [
    "#group by name and calculate multiple aggregations\n",
    "df5=df.groupby('Name').agg({'Value':['sum','mean','min','max'],\n",
    "                          'Score':['sum','mean']})\n",
    "print(\"\\n Group by name and multiple aggregation:\\n \",df5)"
   ]
  },
  {
   "cell_type": "code",
   "execution_count": 23,
   "id": "1270f303",
   "metadata": {},
   "outputs": [
    {
     "name": "stdout",
     "output_type": "stream",
     "text": [
      "\n",
      " Group and count:\n",
      "       Name  Value\n",
      "0    Alice      2\n",
      "1      Bob      2\n",
      "2  Charlie      2\n"
     ]
    }
   ],
   "source": [
    "df6=df.groupby(('Name'),as_index=False)['Value'].count()\n",
    "print(\"\\n Group and count:\\n\",df6)"
   ]
  },
  {
   "cell_type": "code",
   "execution_count": 21,
   "id": "06a9f0cd",
   "metadata": {},
   "outputs": [
    {
     "name": "stdout",
     "output_type": "stream",
     "text": [
      "\n",
      " Group and count:\n",
      "          Category  Value  Score\n",
      "Name                           \n",
      "Alice           2      2      2\n",
      "Bob             2      2      2\n",
      "Charlie         2      2      2\n"
     ]
    }
   ],
   "source": [
    "df7=df.groupby(('Name')).count()\n",
    "print(\"\\n Group and count:\\n\",df7)"
   ]
  },
  {
   "cell_type": "code",
   "execution_count": 25,
   "id": "6af2983c",
   "metadata": {},
   "outputs": [
    {
     "name": "stdout",
     "output_type": "stream",
     "text": [
      "Group and display from first:\n",
      "       Name  Value\n",
      "0    Alice      1\n",
      "1      Bob      3\n",
      "2  Charlie      1\n"
     ]
    }
   ],
   "source": [
    "df8=df.groupby(('Name'),as_index=False)['Value'].first()\n",
    "print(\"Group and display from first:\\n\",df8)"
   ]
  },
  {
   "cell_type": "code",
   "execution_count": 26,
   "id": "853f5b93",
   "metadata": {},
   "outputs": [
    {
     "name": "stdout",
     "output_type": "stream",
     "text": [
      "\n",
      " Group and display from first:\n",
      "         Category  Value  Score\n",
      "Name                          \n",
      "Alice          A      1     94\n",
      "Bob            B      3     90\n",
      "Charlie        C      1     66\n"
     ]
    }
   ],
   "source": [
    "df9=df.groupby(('Name')).first()\n",
    "print(\"\\n Group and display from first:\\n\",df9)"
   ]
  },
  {
   "cell_type": "code",
   "execution_count": 27,
   "id": "559fcfa6",
   "metadata": {},
   "outputs": [
    {
     "name": "stdout",
     "output_type": "stream",
     "text": [
      "Group and display from last:\n",
      "       Name  Value\n",
      "0    Alice      1\n",
      "1      Bob      1\n",
      "2  Charlie      3\n"
     ]
    }
   ],
   "source": [
    "df10=df.groupby(('Name'),as_index=False)['Value'].last()\n",
    "print(\"Group and display from last:\\n\",df10)"
   ]
  },
  {
   "cell_type": "code",
   "execution_count": 29,
   "id": "a9fa3b95",
   "metadata": {},
   "outputs": [
    {
     "name": "stdout",
     "output_type": "stream",
     "text": [
      "\n",
      " Group and display from last:\n",
      "         Category  Value  Score\n",
      "Name                          \n",
      "Alice          A      1     81\n",
      "Bob            B      1     93\n",
      "Charlie        C      3     68\n"
     ]
    }
   ],
   "source": [
    "df11=df.groupby(('Name')).last()\n",
    "print(\"\\n Group and display from last:\\n\",df11)"
   ]
  },
  {
   "cell_type": "code",
   "execution_count": 31,
   "id": "1ac9246e",
   "metadata": {},
   "outputs": [
    {
     "name": "stdout",
     "output_type": "stream",
     "text": [
      "\n",
      " Group and display size:\n",
      "       Name  size\n",
      "0    Alice     2\n",
      "1      Bob     2\n",
      "2  Charlie     2\n",
      "\n",
      " Group and display size:\n",
      " Name\n",
      "Alice      2\n",
      "Bob        2\n",
      "Charlie    2\n",
      "dtype: int64\n"
     ]
    }
   ],
   "source": [
    "df12=df.groupby(('Name'),as_index=False)['Value'].size()\n",
    "print(\"\\n Group and display size:\\n\",df12)\n",
    "df13=df.groupby(('Name')).size()\n",
    "print(\"\\n Group and display size:\\n\",df13)"
   ]
  },
  {
   "cell_type": "code",
   "execution_count": null,
   "id": "b731f187",
   "metadata": {},
   "outputs": [],
   "source": []
  }
 ],
 "metadata": {
  "kernelspec": {
   "display_name": "Python 3 (ipykernel)",
   "language": "python",
   "name": "python3"
  },
  "language_info": {
   "codemirror_mode": {
    "name": "ipython",
    "version": 3
   },
   "file_extension": ".py",
   "mimetype": "text/x-python",
   "name": "python",
   "nbconvert_exporter": "python",
   "pygments_lexer": "ipython3",
   "version": "3.11.5"
  }
 },
 "nbformat": 4,
 "nbformat_minor": 5
}
